{
 "cells": [
  {
   "cell_type": "markdown",
   "id": "closing-graph",
   "metadata": {},
   "source": [
    "# Day 3 - Assignment"
   ]
  },
  {
   "cell_type": "code",
   "execution_count": 37,
   "id": "received-thailand",
   "metadata": {},
   "outputs": [],
   "source": [
    "class Node:\n",
    "    def __init__(self, movieName, relDate):\n",
    "        self.movieName = movieName\n",
    "        self.relDate   = relDate\n",
    "        self.next = None\n",
    "        return\n",
    "    \n",
    "class NetFlixCatalog:\n",
    "    def __init__(self):\n",
    "        self.head = None\n",
    "        \n",
    "    def addMovie(self, movieName, relDate):\n",
    "        new = Node(movieName, relDate)\n",
    "        if(self.head == None):\n",
    "            self.head = new\n",
    "            return\n",
    "        new.next = self.head\n",
    "        self.head = new\n",
    "        return\n",
    "    \n",
    "    def displayMovieList(self):\n",
    "        if self.head == None:\n",
    "            print(\"List is empty, currenty no movies on catalog.\")\n",
    "            return\n",
    "        temp = self.head\n",
    "        while(temp != None):\n",
    "            print(temp.movieName, temp.relDate, \"->\")\n",
    "            temp = temp.next\n",
    "        print(\"\\nx List-End x\")\n",
    "        return\n",
    "    \n",
    "    def deleteFromLast(self):\n",
    "        if self.head == None:\n",
    "            print(\"List is empty, currenty no movies on catalog.\")\n",
    "            return\n",
    "        temp = self.head\n",
    "        if(temp.next == None):\n",
    "            self.head = None\n",
    "            print(\"List Now empty\")\n",
    "        else:\n",
    "            temp1 = temp\n",
    "            while(temp.next):\n",
    "                temp1 = temp\n",
    "                temp  = temp.next\n",
    "            temp1.next = None\n",
    "            print(\"Last Movie Deleted\")\n",
    "        return\n",
    "            "
   ]
  },
  {
   "cell_type": "code",
   "execution_count": 38,
   "id": "hybrid-sight",
   "metadata": {},
   "outputs": [
    {
     "name": "stdout",
     "output_type": "stream",
     "text": [
      "List is empty, currenty no movies on catalog.\n"
     ]
    }
   ],
   "source": [
    "nf = NetFlixCatalog()\n",
    "\n",
    "nf.displayMovieList()"
   ]
  },
  {
   "cell_type": "code",
   "execution_count": 39,
   "id": "exterior-shark",
   "metadata": {},
   "outputs": [],
   "source": [
    "nf.addMovie(\"Iron Man\", \"12 June 2010\")\n",
    "nf.addMovie(\"Thor\", \"15 July 2011\")\n",
    "nf.addMovie(\"Hulk\",\"10 August 2009\")\n",
    "nf.addMovie(\"Captain America\", \"15 May 2011\")\n",
    "nf.addMovie(\"Avengers\", \"5 May 2012\")"
   ]
  },
  {
   "cell_type": "code",
   "execution_count": 40,
   "id": "uniform-public",
   "metadata": {},
   "outputs": [
    {
     "name": "stdout",
     "output_type": "stream",
     "text": [
      "Avengers 5 May 2012 ->\n",
      "Captain America 15 May 2011 ->\n",
      "Hulk 10 August 2009 ->\n",
      "Thor 15 July 2011 ->\n",
      "Iron Man 12 June 2010 ->\n",
      "\n",
      "x List-End x\n"
     ]
    }
   ],
   "source": [
    "nf.displayMovieList()"
   ]
  },
  {
   "cell_type": "code",
   "execution_count": 41,
   "id": "peaceful-digest",
   "metadata": {},
   "outputs": [
    {
     "name": "stdout",
     "output_type": "stream",
     "text": [
      "Last Movie Deleted\n"
     ]
    }
   ],
   "source": [
    "nf.deleteFromLast()"
   ]
  },
  {
   "cell_type": "code",
   "execution_count": 42,
   "id": "disturbed-worship",
   "metadata": {},
   "outputs": [
    {
     "name": "stdout",
     "output_type": "stream",
     "text": [
      "Avengers 5 May 2012 ->\n",
      "Captain America 15 May 2011 ->\n",
      "Hulk 10 August 2009 ->\n",
      "Thor 15 July 2011 ->\n",
      "\n",
      "x List-End x\n"
     ]
    }
   ],
   "source": [
    "nf.displayMovieList()"
   ]
  },
  {
   "cell_type": "code",
   "execution_count": 43,
   "id": "formed-running",
   "metadata": {},
   "outputs": [
    {
     "name": "stdout",
     "output_type": "stream",
     "text": [
      "Last Movie Deleted\n"
     ]
    }
   ],
   "source": [
    "nf.deleteFromLast()"
   ]
  },
  {
   "cell_type": "code",
   "execution_count": 44,
   "id": "executive-charger",
   "metadata": {},
   "outputs": [
    {
     "name": "stdout",
     "output_type": "stream",
     "text": [
      "Avengers 5 May 2012 ->\n",
      "Captain America 15 May 2011 ->\n",
      "Hulk 10 August 2009 ->\n",
      "\n",
      "x List-End x\n"
     ]
    }
   ],
   "source": [
    "nf.displayMovieList()"
   ]
  },
  {
   "cell_type": "code",
   "execution_count": null,
   "id": "internal-spank",
   "metadata": {},
   "outputs": [],
   "source": []
  }
 ],
 "metadata": {
  "kernelspec": {
   "display_name": "Python 3",
   "language": "python",
   "name": "python3"
  },
  "language_info": {
   "codemirror_mode": {
    "name": "ipython",
    "version": 3
   },
   "file_extension": ".py",
   "mimetype": "text/x-python",
   "name": "python",
   "nbconvert_exporter": "python",
   "pygments_lexer": "ipython3",
   "version": "3.8.8"
  }
 },
 "nbformat": 4,
 "nbformat_minor": 5
}
