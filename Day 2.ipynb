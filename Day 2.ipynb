{
 "cells": [
  {
   "cell_type": "markdown",
   "id": "friendly-stanley",
   "metadata": {},
   "source": [
    "# Day 2 - Assignment"
   ]
  },
  {
   "cell_type": "markdown",
   "id": "subsequent-blair",
   "metadata": {},
   "source": [
    "### Q1. Find the time complexity of the following Pseudo Code\n",
    "```python\n",
    "\n",
    "    for( i = 1 ; i <= n ; i = i*2)\n",
    "        for( j = 1 ; j <= i ; j++)\n",
    "            print(“Hello”)\n",
    "```"
   ]
  },
  {
   "cell_type": "markdown",
   "id": "prompt-cedar",
   "metadata": {},
   "source": [
    "The outer loop or the first loop will have time complexity **O(log n)**\n",
    "\n",
    "The inner loop or the nested loop will have time complexity **O(n)**\n",
    "\n",
    "The third loop will have **O(1)** constant time complexity\n",
    "\n",
    "So the total time complexity will be : **O(log n) * O(n) * O(1) = O(nlog n)** "
   ]
  },
  {
   "cell_type": "code",
   "execution_count": null,
   "id": "distinguished-condition",
   "metadata": {},
   "outputs": [],
   "source": []
  }
 ],
 "metadata": {
  "kernelspec": {
   "display_name": "Python 3",
   "language": "python",
   "name": "python3"
  },
  "language_info": {
   "codemirror_mode": {
    "name": "ipython",
    "version": 3
   },
   "file_extension": ".py",
   "mimetype": "text/x-python",
   "name": "python",
   "nbconvert_exporter": "python",
   "pygments_lexer": "ipython3",
   "version": "3.8.8"
  }
 },
 "nbformat": 4,
 "nbformat_minor": 5
}
