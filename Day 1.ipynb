{
 "cells": [
  {
   "cell_type": "markdown",
   "id": "signed-radar",
   "metadata": {},
   "source": [
    "# Day 1 - Assignment"
   ]
  },
  {
   "cell_type": "markdown",
   "id": "indian-adult",
   "metadata": {},
   "source": [
    "### Q1. Write a python program that takes two numbers as the input such as X and Y and print the result of X^Y(X to the power of Y)."
   ]
  },
  {
   "cell_type": "code",
   "execution_count": 3,
   "id": "confirmed-straight",
   "metadata": {},
   "outputs": [
    {
     "name": "stdout",
     "output_type": "stream",
     "text": [
      "Enter the exponent: 2\n",
      "Enter the power   : 3\n",
      "The resulant value x^y : 8\n"
     ]
    }
   ],
   "source": [
    "x = input(\"Enter the exponent: \")\n",
    "y = input(\"Enter the power   : \")\n",
    "print(\"The resulant value x^y :\", pow(int(x),int(y)))"
   ]
  },
  {
   "cell_type": "markdown",
   "id": "referenced-burning",
   "metadata": {},
   "source": [
    "### Q2. Write a Python program to print the numbers in the list which are divisible by 3."
   ]
  },
  {
   "cell_type": "code",
   "execution_count": 21,
   "id": "central-victoria",
   "metadata": {},
   "outputs": [
    {
     "name": "stdout",
     "output_type": "stream",
     "text": [
      "Enter some numbers seperated by space : 33 30 66 99 100 55 76\n",
      "33, 30, 66, 99\n"
     ]
    }
   ],
   "source": [
    "lst = [int(i) for i in input(\"Enter some numbers seperated by space : \").split()]\n",
    "lst3 = [int(i) for i in lst if i%3==0]\n",
    "print(*lst3, sep=', ')"
   ]
  },
  {
   "cell_type": "code",
   "execution_count": null,
   "id": "serial-alert",
   "metadata": {},
   "outputs": [],
   "source": []
  }
 ],
 "metadata": {
  "kernelspec": {
   "display_name": "Python 3",
   "language": "python",
   "name": "python3"
  },
  "language_info": {
   "codemirror_mode": {
    "name": "ipython",
    "version": 3
   },
   "file_extension": ".py",
   "mimetype": "text/x-python",
   "name": "python",
   "nbconvert_exporter": "python",
   "pygments_lexer": "ipython3",
   "version": "3.8.8"
  }
 },
 "nbformat": 4,
 "nbformat_minor": 5
}
