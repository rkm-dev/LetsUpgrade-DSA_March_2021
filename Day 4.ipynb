{
 "cells": [
  {
   "cell_type": "markdown",
   "id": "bottom-rating",
   "metadata": {},
   "source": [
    "# Day 4 - Assignment"
   ]
  },
  {
   "cell_type": "code",
   "execution_count": 3,
   "id": "sealed-polymer",
   "metadata": {},
   "outputs": [],
   "source": [
    "lst = [1,3,66,78,97,56,434,67,67,983,8,6,45,67,54,23,45,657,78,545,768,89,45,6,78,86,4,5,6789,9]\n",
    "\n",
    "def lsearch(lst, search):\n",
    "    count = 0\n",
    "    for i in lst:\n",
    "        if search == i:\n",
    "            print(\"found search value at position :\",count)\n",
    "        else:\n",
    "            count += 1\n",
    "    return\n",
    "            "
   ]
  },
  {
   "cell_type": "code",
   "execution_count": 4,
   "id": "excellent-review",
   "metadata": {},
   "outputs": [
    {
     "name": "stdout",
     "output_type": "stream",
     "text": [
      "found search value at position : 12\n",
      "found search value at position : 15\n",
      "found search value at position : 20\n"
     ]
    }
   ],
   "source": [
    "lsearch(lst, 45)"
   ]
  },
  {
   "cell_type": "code",
   "execution_count": null,
   "id": "desperate-hacker",
   "metadata": {},
   "outputs": [],
   "source": []
  }
 ],
 "metadata": {
  "kernelspec": {
   "display_name": "Python 3",
   "language": "python",
   "name": "python3"
  },
  "language_info": {
   "codemirror_mode": {
    "name": "ipython",
    "version": 3
   },
   "file_extension": ".py",
   "mimetype": "text/x-python",
   "name": "python",
   "nbconvert_exporter": "python",
   "pygments_lexer": "ipython3",
   "version": "3.8.8"
  }
 },
 "nbformat": 4,
 "nbformat_minor": 5
}
